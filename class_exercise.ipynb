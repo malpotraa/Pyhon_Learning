{
 "cells": [
  {
   "cell_type": "markdown",
   "metadata": {},
   "source": [
    "###  Write a program to prompt a user for hours he/worked in a week and the hourly rate of income and use it to calculate the gross pay."
   ]
  },
  {
   "cell_type": "code",
   "execution_count": 13,
   "metadata": {},
   "outputs": [
    {
     "name": "stdout",
     "output_type": "stream",
     "text": [
      "Gross Pay = 940.0\n"
     ]
    }
   ],
   "source": [
    "hour = float(input('Enter the no. of hours worked:'))\n",
    "rate = float(input('Enter the hourly rate:'))\n",
    "print('Gross Pay = {}' .format(hour*rate) )"
   ]
  },
  {
   "cell_type": "markdown",
   "metadata": {},
   "source": [
    "### 2. Save a copy of your favorite color in a variable.  Print that variable 10 times.\n",
    "#### a. Ask your neighbor what their favorite color is (or just picking another colour works!).  Save it in a variable.  Now you have two variables. Concatenate them together and print the result 100 times\n",
    "#### b. Use the \"fast swapping (x,y = y,x)\" to swap your color with your neighbors. Print each variable.  Are you happy with the result?"
   ]
  },
  {
   "cell_type": "code",
   "execution_count": 19,
   "metadata": {},
   "outputs": [
    {
     "name": "stdout",
     "output_type": "stream",
     "text": [
      "redredredredredredredredredred\n",
      "redGreenredGreenredGreenredGreenredGreenredGreenredGreenredGreenredGreenredGreenredGreenredGreenredGreenredGreenredGreenredGreenredGreenredGreenredGreenredGreenredGreenredGreenredGreenredGreenredGreenredGreenredGreenredGreenredGreenredGreenredGreenredGreenredGreenredGreenredGreenredGreenredGreenredGreenredGreenredGreenredGreenredGreenredGreenredGreenredGreenredGreenredGreenredGreenredGreenredGreenredGreenredGreenredGreenredGreenredGreenredGreenredGreenredGreenredGreenredGreenredGreenredGreenredGreenredGreenredGreenredGreenredGreenredGreenredGreenredGreenredGreenredGreenredGreenredGreenredGreenredGreenredGreenredGreenredGreenredGreenredGreenredGreenredGreenredGreenredGreenredGreenredGreenredGreenredGreenredGreenredGreenredGreenredGreenredGreenredGreenredGreenredGreenredGreenredGreenredGreen\n",
      "Green\n",
      "red\n"
     ]
    }
   ],
   "source": [
    "colour = 'red'\n",
    "print(colour*10)\n",
    "colour1 = 'Green'\n",
    "print((colour+colour1)*100)\n",
    "colour,colour1 = colour1,colour\n",
    "print(colour)\n",
    "print(colour1)"
   ]
  },
  {
   "cell_type": "markdown",
   "metadata": {},
   "source": [
    "### 3. Write a program which prompts the user for Celsius temperature, convert the temperature to Fahrenheit, and print out the converted temperature"
   ]
  },
  {
   "cell_type": "code",
   "execution_count": 21,
   "metadata": {},
   "outputs": [
    {
     "data": {
      "text/plain": [
       "153.14"
      ]
     },
     "execution_count": 21,
     "metadata": {},
     "output_type": "execute_result"
    }
   ],
   "source": [
    "def convert(c):\n",
    "    return c*(9/5)+32\n",
    "\n",
    "convert(float(input('Enter the temperature in Degree Celcius:')))"
   ]
  },
  {
   "cell_type": "code",
   "execution_count": 24,
   "metadata": {},
   "outputs": [
    {
     "name": "stdout",
     "output_type": "stream",
     "text": [
      "2\n"
     ]
    }
   ],
   "source": [
    "nums = {1, 2, 3, 4, 5, 6}\n",
    "nums = {0, 1, 2, 3} & nums\n",
    "nums = filter(lambda x: x > 1, nums)\n",
    "print(len(list(nums)))"
   ]
  },
  {
   "cell_type": "code",
   "execution_count": 25,
   "metadata": {},
   "outputs": [
    {
     "name": "stdout",
     "output_type": "stream",
     "text": [
      "8\n"
     ]
    }
   ],
   "source": [
    "def power(x, y):\n",
    "  if y == 0:\n",
    "    return 1\n",
    "  else:\n",
    "    return x * power(x, y-1)\n",
    "\t\t\n",
    "print(power(2, 3))"
   ]
  }
 ],
 "metadata": {
  "kernelspec": {
   "display_name": "Python 3.9.6 ('minimal_analytics')",
   "language": "python",
   "name": "python3"
  },
  "language_info": {
   "codemirror_mode": {
    "name": "ipython",
    "version": 3
   },
   "file_extension": ".py",
   "mimetype": "text/x-python",
   "name": "python",
   "nbconvert_exporter": "python",
   "pygments_lexer": "ipython3",
   "version": "3.9.6"
  },
  "orig_nbformat": 4,
  "vscode": {
   "interpreter": {
    "hash": "b59dd91aeb59d494282fcc1f50c5c321c91540260fe077300565961bfdd33711"
   }
  }
 },
 "nbformat": 4,
 "nbformat_minor": 2
}
